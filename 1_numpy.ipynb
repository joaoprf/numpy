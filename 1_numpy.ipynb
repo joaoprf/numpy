{
  "nbformat": 4,
  "nbformat_minor": 0,
  "metadata": {
    "kernelspec": {
      "display_name": "Python 3",
      "language": "python",
      "name": "python3"
    },
    "language_info": {
      "codemirror_mode": {
        "name": "ipython",
        "version": 3
      },
      "file_extension": ".py",
      "mimetype": "text/x-python",
      "name": "python",
      "nbconvert_exporter": "python",
      "pygments_lexer": "ipython3",
      "version": "3.7.4"
    },
    "colab": {
      "name": "1_numpy.ipynb",
      "provenance": [],
      "collapsed_sections": [
        "dwCXFA_k2NqD"
      ]
    }
  },
  "cells": [
    {
      "cell_type": "markdown",
      "metadata": {
        "id": "1oWHkC-62NpW",
        "colab_type": "text"
      },
      "source": [
        "# NumPy - Manipulando Dados Numéricos"
      ]
    },
    {
      "cell_type": "markdown",
      "metadata": {
        "id": "Yr-jWBGf2NpY",
        "colab_type": "text"
      },
      "source": [
        "## O que é o NumPy?\n",
        "\n",
        "O *NumPy* é uma biblioteca para a Linguagem de Programação Python, que da suporte à linguagem para trabalhar com grandes matrizes e vetores multidimensionais, juntamente com uma ampla coleção de funções matemáticas de alto nível.\n",
        "\n",
        "Especificamente, essa bibioteca fornece ao Python, objetos *arrays* multidimensionais e vários objetos derivados (p. ex.: masked arrays e matrices), com um conjunto de funções para operações rápidas em vetores e a Computação Numérica, por exemplo: \n",
        "\n",
        "* Funções Matemáticas e Lógicas;\n",
        "* Manipulação de Formas;\n",
        "* Ordenação;\n",
        "* Seleção;\n",
        "* Leitura de Dados (E/S);\n",
        "* Transformada Discreta de Fourier;\n",
        "* Álgebra Linear Básica;\n",
        "* Operações Estatísticas Básicas;\n",
        "* Simulação Aleatória.\n",
        "\n",
        "No núcleo da biblioteca NumPy temos o objeto *narray* que encapsula vetores n-dimensionais com tipos de dados homgêneos e muitas operações executadas no código compilado a fim de desempenho. \n",
        "\n",
        "### NumPy X Sequências Padrão do Python\n",
        "\n",
        "Existem várias diferenças importantes entre os vetores do NumPy e as sequências padrão do Python, são elas: \n",
        "\n",
        "* **Vetores Estáticos:** os vetores do NumPy têm tamanho fixo em sua criação, diferente das listas do Python que podem crescer dinamicamente em tempo de execução. Logo, quando alteramos o tamanho de um objeto *narray*, será criado um novo vetor e excluído o original;\n",
        "\n",
        "* **Tipo de Dados Homogêneo dos Itens:**  todos os elementos dos vetores em NumPy, devem ser obrigatoriamente do mesmo tipo de dados, logo, eles irão ter o mesmo tamanho em memória;\n",
        "\n",
        "* **Operações Matemáticas Avançadas:** os vetores do NumPy otimizam operações matemáticas avançadas e qualquer tipo de outras operações para um grande número de dados. Na prática, essas operações são executadas mais eficientemente e com menos código do que se usarmos as sequências padrão do Python;"
      ]
    },
    {
      "cell_type": "code",
      "metadata": {
        "id": "EjfM1UiW2Npa",
        "colab_type": "code",
        "colab": {}
      },
      "source": [
        "# NumPy na Prática\n",
        "import numpy as np             # Importa a biblioteca NumPy para seu projeto\n",
        "\n",
        "vetor = np.array([0, 1, 2, 3]) # instancia um vetor (array) em NumPy\n",
        "vetor                          # Imprime seu conteúdo"
      ],
      "execution_count": 0,
      "outputs": []
    },
    {
      "cell_type": "markdown",
      "metadata": {
        "id": "I58xpPPZ2Npf",
        "colab_type": "text"
      },
      "source": [
        "## Tipos de Dados"
      ]
    },
    {
      "cell_type": "markdown",
      "metadata": {
        "id": "Ru3q0sa42Npg",
        "colab_type": "text"
      },
      "source": [
        "| Tipo de Dado | Descrição                                            |\n",
        "|:-------------|:-----------------------------------------------------|\n",
        "| np.int64     | Números inteiros de 64bits                           |\n",
        "| np.float32   | Números de ponto flutuante de precisão dupla (Reais) |\n",
        "| np.complex   | Números Complexos                                    |\n",
        "| np.bool      | Tipo lógico (Booleano)                               |\n",
        "| np.object    | Tipo object do Python                                |\n",
        "| np.string_   | Cadeia de Caracteres Fixa (String)                   |\n",
        "| np.unicode_  | Cadeia de Caracteres Unicode Fixa (String)           |"
      ]
    },
    {
      "cell_type": "markdown",
      "metadata": {
        "id": "yvnoVZAd2Nph",
        "colab_type": "text"
      },
      "source": [
        "## Criação de Vetores"
      ]
    },
    {
      "cell_type": "markdown",
      "metadata": {
        "id": "wVvTMBvh2Npi",
        "colab_type": "text"
      },
      "source": [
        "### Construção Manual de Vetores"
      ]
    },
    {
      "cell_type": "code",
      "metadata": {
        "id": "4pL_sU1W2Npj",
        "colab_type": "code",
        "colab": {}
      },
      "source": [
        "# CONSTRUÇÃO MANUAL DE VETORES\n",
        "# Unidimencional (1D)\n",
        "\n",
        "vetor_numpy = np.array([0, 1, 2, 3, 4])\n",
        "\n",
        "print(vetor_numpy)        # Imprime o vetor\n",
        "print(vetor_numpy.ndim)   # Retorna o número de dimensões do vetor\n",
        "print(vetor_numpy.shape)  # Retorna a forma do vetor ou atribui uma tupla para as dimnesões do vetor\n",
        "print(len(vetor_numpy))   # Retorna o número de elementos do vetor\n",
        "\n",
        "# Multi-dimencional (n-D)\n",
        "\n",
        "# Matriz Bidimensional 2 (linhas) X 3 (colunas)\n",
        "matriz_numpy = np.array([[0, 1, 2], [3, 4, 5]]) \n",
        "\n",
        "print(matriz_numpy)\n",
        "print(matriz_numpy.ndim)\n",
        "print(matriz_numpy.shape)\n",
        "print(len(matriz_numpy))         # Retorna o tamanho da primeira dimensão do vetor (linhas)"
      ],
      "execution_count": 0,
      "outputs": []
    },
    {
      "cell_type": "markdown",
      "metadata": {
        "id": "7Mw_GSsZ2Npm",
        "colab_type": "text"
      },
      "source": [
        "### Funções para Criação de Vetores"
      ]
    },
    {
      "cell_type": "code",
      "metadata": {
        "id": "YTUYjkzB2Npn",
        "colab_type": "code",
        "colab": {}
      },
      "source": [
        "# Vetores Igualmente Espaçado\n",
        "print(\"Vetores Igualmente Espaçado\")\n",
        "vetor = np.arange(10) # 0 .. n - 1\n",
        "print(vetor)\n",
        "\n",
        "vetor_impar = np.arange(1, 9, 2) # Início, Fim e Incremento\n",
        "print(vetor_impar)\n",
        "\n",
        "# Vetores por números de pontos\n",
        "print(\"\\nVetores por Números de Pontos\")\n",
        "numero_pontos = np.linspace(0, 1, 6) # Início, Fim, Número de Pontos\n",
        "print(numero_pontos)\n",
        "\n",
        "# Matrizes Populares\n",
        "print(\"\\nMATRIZES POPULARES\")\n",
        "print(\"\\nMatriz de Uns\")\n",
        "matriz_de_uns = np.ones((3, 3)) # Tupla (3, 3)\n",
        "print(matriz_de_uns)\n",
        "\n",
        "print(\"\\nMatriz de Zeros\")\n",
        "matriz_de_zeros = np.zeros((2, 2))\n",
        "print(matriz_de_zeros)\n",
        "\n",
        "print(\"\\nMatriz Zerada com Diagonal de Uns\")\n",
        "matriz_zeros_diagonal_uns = np.eye(4)\n",
        "print(matriz_zeros_diagonal_uns)\n",
        "\n",
        "print(\"\\nMatriz Zerada com Diagonal de Permutações\")\n",
        "matriz_diagonal_permutacao = np.diag(np.array([1, 2, 3, 4]))\n",
        "print(matriz_diagonal_permutacao)\n",
        "\n",
        "print(\"\\nVETORES ALEATÓRIOS\")\n",
        "print(\"\\nVetor Aleatório Uniforme\")\n",
        "vetor_uniforme_aleatorio = np.random.rand(4)\n",
        "print(vetor_uniforme_aleatorio)\n",
        "\n",
        "print(\"\\nVetor Aleatório Gaussiano\")\n",
        "vetor_aleatorio_gaussiano = np.random.randn(4)\n",
        "print(vetor_aleatorio_gaussiano)\n",
        "\n",
        "np.random.seed(1234) # Definindo a semente aleatória"
      ],
      "execution_count": 0,
      "outputs": []
    },
    {
      "cell_type": "markdown",
      "metadata": {
        "id": "KuhNWS0I2Npq",
        "colab_type": "text"
      },
      "source": [
        "### Operações Matemáticas com Vetores"
      ]
    },
    {
      "cell_type": "code",
      "metadata": {
        "id": "0oGZjtcG2Npr",
        "colab_type": "code",
        "colab": {}
      },
      "source": [
        "import numpy as np\n",
        "\n",
        "vetor_a = np.array([1, 2, 3])\n",
        "vetor_b = np.array([4, 5, 6])\n",
        "\n",
        "\n",
        "# Adição\n",
        "vetor_a + vetor_b              # Usando operador aritmético\n",
        "np.add(vetor_a, vetor_b)       # Usando função definida do NumPy\n",
        "\n",
        "# Subtração\n",
        "vetor_a - vetor_b              # Usando operador aritmético\n",
        "np.subtract(vetor_a, vetor_b)  # Usando função definida do NumPy\n",
        "\n",
        "# Multiplicação\n",
        "vetor_a * vetor_b              # Usando operador aritmético\n",
        "np.multiply(vetor_a, vetor_b)  # Usando função definida do NumPy\n",
        "\n",
        "# Divisão\n",
        "vetor_a / vetor_b              # Usando operador aritmético\n",
        "np.divide(vetor_a, vetor_b)    # Usando função definida do NumPy\n",
        "\n",
        "# Raiz Quadrada\n",
        "np.sqrt(vetor_a)\n",
        "\n",
        "# Função Exponencia\n",
        "np.exp(vetor_a)                \n",
        "\n",
        "# Seno\n",
        "np.sin(vetor_a)\n",
        "\n",
        "# Coseno\n",
        "np.cos(vetor_a)\n",
        "\n",
        "# Logaritmo Natural\n",
        "np.log(vetor_a)"
      ],
      "execution_count": 0,
      "outputs": []
    },
    {
      "cell_type": "markdown",
      "metadata": {
        "id": "KXPLEcfW2Npu",
        "colab_type": "text"
      },
      "source": [
        "### Comparação"
      ]
    },
    {
      "cell_type": "code",
      "metadata": {
        "id": "cK687yI02Npv",
        "colab_type": "code",
        "colab": {}
      },
      "source": [
        "import numpy as np\n",
        "\n",
        "vetor_a = np.array([1, 2, 3])\n",
        "vetor_b = np.array([4, 5, 6])\n",
        "\n",
        "# Compara cada um dos elementos dos vetores\n",
        "# Retorna um vetor booleano com os resultados da comparação\n",
        "vetor_a == vetor_b\n",
        "vetor_a != vetor_b\n",
        "\n",
        "vetor_a > vetor_b\n",
        "vetor_a >= vetor_b\n",
        "\n",
        "vetor_a < vetor_b\n",
        "vetor_a <= vetor_b"
      ],
      "execution_count": 0,
      "outputs": []
    },
    {
      "cell_type": "markdown",
      "metadata": {
        "id": "IM_dc2S02Npz",
        "colab_type": "text"
      },
      "source": [
        "### Funções Agregadas"
      ]
    },
    {
      "cell_type": "code",
      "metadata": {
        "id": "CLgSRV_I2Npz",
        "colab_type": "code",
        "colab": {}
      },
      "source": [
        "import numpy as np\n",
        "\n",
        "vetor = np.array([1, 2, 3, 4, 5])\n",
        "\n",
        "vetor.sum()         # Soma todos os elementos do vetor\n",
        "vetor.cumsum()      # Soma acumulada de todos os elementos do vetor\n",
        "\n",
        "vetor.min()         # Retorna o menor elemento do vetor numérico\n",
        "vetor.max()         # Retorna o maior elemento do vetor numérico\n",
        "\n",
        "vetor.mean()        # Média\n",
        "np.median(vetor)    # Mediana\n",
        "np.corrcoef(vetor)  # Coeficiente de Correlação\n",
        "np.std(vetor)       # Desvio Padrão"
      ],
      "execution_count": 0,
      "outputs": []
    },
    {
      "cell_type": "markdown",
      "metadata": {
        "id": "72-ZmeT82Np2",
        "colab_type": "text"
      },
      "source": [
        "### Copiando Vetores"
      ]
    },
    {
      "cell_type": "code",
      "metadata": {
        "id": "ZxiWq85S2Np3",
        "colab_type": "code",
        "colab": {}
      },
      "source": [
        "import numpy as np\n",
        "\n",
        "vetor = np.array([1, 2, 3, 4, 5])\n",
        "\n",
        "copia_vetor = np.copy(vetor)\n",
        "print(copia_vetor)\n",
        "\n",
        "copia = vetor.copy()  \n",
        "print(copia)\n",
        "\n",
        "visao = vetor.view()  # Cria uma visão (view) do vetor [representação virutal em memória]\n",
        "print(visao)"
      ],
      "execution_count": 0,
      "outputs": []
    },
    {
      "cell_type": "markdown",
      "metadata": {
        "id": "PHvTkS6O2Np6",
        "colab_type": "text"
      },
      "source": [
        "### Ordenando Vetores"
      ]
    },
    {
      "cell_type": "code",
      "metadata": {
        "id": "lLFT_V-p2Np6",
        "colab_type": "code",
        "colab": {}
      },
      "source": [
        "import numpy as np\n",
        "\n",
        "vetor = np.array([9, 8, 7, 6, 5, 4, 3, 2, 1])\n",
        "vetor.sort()\n",
        "vetor"
      ],
      "execution_count": 0,
      "outputs": []
    },
    {
      "cell_type": "markdown",
      "metadata": {
        "id": "YklpVvAK2Np9",
        "colab_type": "text"
      },
      "source": [
        "### Subconjunto, Fatiamento e Indexação"
      ]
    },
    {
      "cell_type": "code",
      "metadata": {
        "id": "0fLkO4eE2Np-",
        "colab_type": "code",
        "colab": {}
      },
      "source": [
        "import numpy as np\n",
        "\n",
        "vetor = np.array([1, 2, 3, 4, 5])\n",
        "matriz = np.array([(1, 2, 3), (4, 5, 6), (7, 8, 9)])\n",
        "\n",
        "\n",
        "print(vetor[2])        # vetor[i] = Pega o elemento do vetor na posição (i)\n",
        "print(matriz[1, 2])    # vetor[linha, coluna] = Pega um elemento em uma matriz\n",
        "\n",
        "\n",
        "print(vetor[0:3])      # vetor[inicio:quantidade] = Retorna 3 elementos contados à partir da posição de início ([0] \n",
        "print(matriz[1:2])     # Seleciona todos elementos da primeira linha até a terceira coluna\n",
        "print(matriz[0:3, 1])  # matriz[inicio:quantidade, coluna] Seleciona 3 elementos da segunda coluna [1], à partir da primeira linha [0]\n",
        "\n",
        "print(matriz[:1])      # Seleciona todos os itens da primeira linha\n",
        "print(matriz[:2])      # Seleciona todos os itens da primeira linha e segunda linha\n",
        "\n",
        "print(vetor[ : :-1])   # Seleciona todos os elementos de trás pra frente (invertido)\n",
        "\n",
        "# Indexação Lógica\n",
        "print(vetor[vetor <= 3]) # Seleciona todos os elementos dos índices menores iguais a 3\n",
        "print(vetor[1 + 3])      # Calcula dinamicamente a posição do vetor\n",
        "\n",
        "\n",
        "print(matriz[[1, 0, 1, 0]]) # Retorna uma matriz com as linhas 1 e 0 repetidas"
      ],
      "execution_count": 0,
      "outputs": []
    },
    {
      "cell_type": "markdown",
      "metadata": {
        "id": "dwCXFA_k2NqD",
        "colab_type": "text"
      },
      "source": [
        "## Entrada/Saída (I/O)"
      ]
    },
    {
      "cell_type": "code",
      "metadata": {
        "id": "w3zFb1iU2NqD",
        "colab_type": "code",
        "colab": {}
      },
      "source": [
        "import numpy as np\n",
        "from io import StringIO\n",
        "\n",
        "data = u\"1, 2, 3\\n4, 5, 6\"\n",
        "vetor = np.genfromtxt(StringIO(data), delimiter=\",\") # Converte dados para vetor\n",
        "np.savetxt(\"nome_arquivo.txt\", vetor, delimiter=\" \") # Salva o vetor como arquivo"
      ],
      "execution_count": 0,
      "outputs": []
    },
    {
      "cell_type": "markdown",
      "metadata": {
        "id": "xgZkPPbq2NqG",
        "colab_type": "text"
      },
      "source": [
        "```python\n",
        "# Exemplo - Carregamento de Arquivos\n",
        "np.genfromtxt(\"nome_arquivo.csv\", delimiter=',')\n",
        "np.loadtxt(\"nome_arquivo.txt\")\n",
        "```"
      ]
    },
    {
      "cell_type": "markdown",
      "metadata": {
        "id": "-sI6kO-m2NqG",
        "colab_type": "text"
      },
      "source": [
        "# Exercícios"
      ]
    },
    {
      "cell_type": "markdown",
      "metadata": {
        "id": "VuXx31mi2NqH",
        "colab_type": "text"
      },
      "source": [
        "1. Importe o pacote numpy com o nome np."
      ]
    },
    {
      "cell_type": "code",
      "metadata": {
        "id": "c2K0fg-T2NqI",
        "colab_type": "code",
        "colab": {}
      },
      "source": [
        "import numpy as np"
      ],
      "execution_count": 0,
      "outputs": []
    },
    {
      "cell_type": "markdown",
      "metadata": {
        "id": "CZCU_Qrn2NqK",
        "colab_type": "text"
      },
      "source": [
        "2. Crie o seguinte vetor unidimensional (1D):\n",
        "\n",
        "| 0 | 1 | 2 | 3 | 4 | 5 | 6 | 7 | 8 | 9 |\n",
        "|:-:|:-:|:-:|:-:|:-:|:-:|:-:|:-:|:-:|:-:|"
      ]
    },
    {
      "cell_type": "code",
      "metadata": {
        "id": "sOPhrY0G2NqL",
        "colab_type": "code",
        "colab": {
          "base_uri": "https://localhost:8080/",
          "height": 34
        },
        "outputId": "76b4ee16-ebba-4235-be9d-42b961603b04"
      },
      "source": [
        "vetor = np.array([0, 1, 2, 3, 4, 5, 6, 7, 8, 9])\n",
        "\n",
        "print (vetor)"
      ],
      "execution_count": 129,
      "outputs": [
        {
          "output_type": "stream",
          "text": [
            "[0 1 2 3 4 5 6 7 8 9]\n"
          ],
          "name": "stdout"
        }
      ]
    },
    {
      "cell_type": "markdown",
      "metadata": {
        "id": "UHKiSJuX2NqN",
        "colab_type": "text"
      },
      "source": [
        "3. Qual é o comprimento `len` do vetor?"
      ]
    },
    {
      "cell_type": "code",
      "metadata": {
        "id": "yZ5PbpuJ2NqO",
        "colab_type": "code",
        "colab": {
          "base_uri": "https://localhost:8080/",
          "height": 34
        },
        "outputId": "6d26d7ca-4ecc-40d0-d5cf-1efcce10a0d2"
      },
      "source": [
        "x = len(vetor)\n",
        "print (x)"
      ],
      "execution_count": 130,
      "outputs": [
        {
          "output_type": "stream",
          "text": [
            "10\n"
          ],
          "name": "stdout"
        }
      ]
    },
    {
      "cell_type": "markdown",
      "metadata": {
        "id": "9zvjzrzk2NqR",
        "colab_type": "text"
      },
      "source": [
        "4. Quantas dimensões `ndim` o vetor possui?"
      ]
    },
    {
      "cell_type": "code",
      "metadata": {
        "id": "Rzt21hrP2NqS",
        "colab_type": "code",
        "colab": {
          "base_uri": "https://localhost:8080/",
          "height": 34
        },
        "outputId": "250cf7d7-35ae-4254-d80a-fea969cf6021"
      },
      "source": [
        "print (vetor.ndim)"
      ],
      "execution_count": 131,
      "outputs": [
        {
          "output_type": "stream",
          "text": [
            "1\n"
          ],
          "name": "stdout"
        }
      ]
    },
    {
      "cell_type": "markdown",
      "metadata": {
        "id": "6vA73Lsn2NqV",
        "colab_type": "text"
      },
      "source": [
        "5. O que a função `shape` retorna?"
      ]
    },
    {
      "cell_type": "code",
      "metadata": {
        "id": "vRMxzSVc2NqV",
        "colab_type": "code",
        "colab": {
          "base_uri": "https://localhost:8080/",
          "height": 34
        },
        "outputId": "4542e434-b413-4391-d6d6-544eb14cb44a"
      },
      "source": [
        "print (vetor.shape)"
      ],
      "execution_count": 132,
      "outputs": [
        {
          "output_type": "stream",
          "text": [
            "(10,)\n"
          ],
          "name": "stdout"
        }
      ]
    },
    {
      "cell_type": "markdown",
      "metadata": {
        "id": "c7dRctMS2NqY",
        "colab_type": "text"
      },
      "source": [
        "**Resposta**:"
      ]
    },
    {
      "cell_type": "markdown",
      "metadata": {
        "id": "OM5DLbE82NqY",
        "colab_type": "text"
      },
      "source": [
        "6. Crie a variável *pares* e extraia todos os números pares do vetor para ela:"
      ]
    },
    {
      "cell_type": "code",
      "metadata": {
        "id": "xq93Afwg2NqZ",
        "colab_type": "code",
        "colab": {}
      },
      "source": [
        ""
      ],
      "execution_count": 0,
      "outputs": []
    },
    {
      "cell_type": "markdown",
      "metadata": {
        "id": "womwS5cj2Nqb",
        "colab_type": "text"
      },
      "source": [
        "7. Substitua todos os elementos ímpares do vetor por -1, em seguida, ordene os resultados:"
      ]
    },
    {
      "cell_type": "code",
      "metadata": {
        "id": "iEN0zFTG2Nqc",
        "colab_type": "code",
        "colab": {}
      },
      "source": [
        ""
      ],
      "execution_count": 0,
      "outputs": []
    },
    {
      "cell_type": "markdown",
      "metadata": {
        "id": "GWQjDGKF2Nqe",
        "colab_type": "text"
      },
      "source": [
        "8. Converta o vetor unidimensional (1D) abaixo para uma matriz (2D) com 4 linhas. **Dica:** `reshape`."
      ]
    },
    {
      "cell_type": "code",
      "metadata": {
        "id": "okJ5gOkf2Nqf",
        "colab_type": "code",
        "colab": {
          "base_uri": "https://localhost:8080/",
          "height": 85
        },
        "outputId": "a7162f56-52e3-4309-8fff-eab29f92ed05"
      },
      "source": [
        "novovetor = vetor.reshape(4,3)\n",
        "print(novovetor)\n",
        " "
      ],
      "execution_count": 135,
      "outputs": [
        {
          "output_type": "stream",
          "text": [
            "[[ 1  2  3]\n",
            " [ 4  5  6]\n",
            " [ 7  8  9]\n",
            " [10 11 12]]\n"
          ],
          "name": "stdout"
        }
      ]
    },
    {
      "cell_type": "markdown",
      "metadata": {
        "id": "TQ_XRsJu2Nqh",
        "colab_type": "text"
      },
      "source": [
        "9. Obtenha os itens em comum, ou seja, a intersecção dos vetores `a` e `b` abaixo:\n",
        "**Saída**: [2, 4, 6]"
      ]
    },
    {
      "cell_type": "code",
      "metadata": {
        "id": "9H_FyDSb2Nqi",
        "colab_type": "code",
        "colab": {
          "base_uri": "https://localhost:8080/",
          "height": 34
        },
        "outputId": "d0e11f3a-2c2d-46d0-e833-1b839350591e"
      },
      "source": [
        "a = [1, 2, 3, 4, 6]\n",
        "b = [2, 4, 6, 8, 10]\n",
        "\n",
        "print (set(a).intersection(b))\n",
        "\n",
        "#professor, não entendi muito bem a questão quando fala os vetores a e b abaixo, então criei um qualquer."
      ],
      "execution_count": 165,
      "outputs": [
        {
          "output_type": "stream",
          "text": [
            "{2, 4, 6}\n"
          ],
          "name": "stdout"
        }
      ]
    },
    {
      "cell_type": "markdown",
      "metadata": {
        "id": "3L54IqPa2Nql",
        "colab_type": "text"
      },
      "source": [
        "10. Retorne os valores únicos do vetor `a` que não estão no vetor `b` (diferença).\n",
        "**Saída**: [1, 3]"
      ]
    },
    {
      "cell_type": "code",
      "metadata": {
        "id": "j7R-xm362Nqm",
        "colab_type": "code",
        "colab": {
          "base_uri": "https://localhost:8080/",
          "height": 34
        },
        "outputId": "8ffce916-5eca-47ee-ea63-4b04d8a731c2"
      },
      "source": [
        "print (set(a).difference(b))"
      ],
      "execution_count": 164,
      "outputs": [
        {
          "output_type": "stream",
          "text": [
            "{1, 3}\n"
          ],
          "name": "stdout"
        }
      ]
    },
    {
      "cell_type": "markdown",
      "metadata": {
        "id": "MReMjISp2Nqo",
        "colab_type": "text"
      },
      "source": [
        "11. Retorne um vetor com as posições (índices) onde os elementos do vetor `a` sãos iguais aos elementos do vetor `b`. **Dica**: `where`.\n",
        "**Saída**: [2, 3, 5]"
      ]
    },
    {
      "cell_type": "code",
      "metadata": {
        "id": "gMh0YErg2Nqp",
        "colab_type": "code",
        "colab": {}
      },
      "source": [
        ""
      ],
      "execution_count": 0,
      "outputs": []
    },
    {
      "cell_type": "markdown",
      "metadata": {
        "id": "aQ_Gzbnk2Nqr",
        "colab_type": "text"
      },
      "source": [
        "12. Obtenha todos os itens entre 5 e 15 do vetor `a = [0, 1, 2, 3, . . ., 20]`."
      ]
    },
    {
      "cell_type": "code",
      "metadata": {
        "id": "VwJhyBg32Nqs",
        "colab_type": "code",
        "colab": {}
      },
      "source": [
        ""
      ],
      "execution_count": 0,
      "outputs": []
    },
    {
      "cell_type": "markdown",
      "metadata": {
        "id": "W9pAlKyT2Nqu",
        "colab_type": "text"
      },
      "source": [
        "13. Crie e imprima um vetor com 5 números aleatórios, sem seguida, obtenha os valores máximo e mínimo dele e mostre na tela."
      ]
    },
    {
      "cell_type": "code",
      "metadata": {
        "id": "btEcN0hC2Nqv",
        "colab_type": "code",
        "colab": {
          "base_uri": "https://localhost:8080/",
          "height": 68
        },
        "outputId": "42cb65ac-5a31-4520-874f-7dacf5b39760"
      },
      "source": [
        "vetor = np.array ([25, 12, 36, 85, 41])\n",
        "print(vetor)\n",
        "\n",
        "print(vetor.min())\n",
        "print(vetor.max())"
      ],
      "execution_count": 122,
      "outputs": [
        {
          "output_type": "stream",
          "text": [
            "[25 12 36 85 41]\n",
            "12\n",
            "85\n"
          ],
          "name": "stdout"
        }
      ]
    },
    {
      "cell_type": "markdown",
      "metadata": {
        "id": "bSERWkYL2Nqx",
        "colab_type": "text"
      },
      "source": [
        "14. Crie a seguinte matriz:\n",
        "\n",
        "|   |   |   |\n",
        "|:-:|:-:|:-:|\n",
        "| 7 | 8 | 9 |\n",
        "| 4 | 5 | 6 |\n",
        "| 1 | 2 | 3 |"
      ]
    },
    {
      "cell_type": "code",
      "metadata": {
        "id": "Gt_gW1x42Nqy",
        "colab_type": "code",
        "colab": {
          "base_uri": "https://localhost:8080/",
          "height": 68
        },
        "outputId": "24be38bb-1cf8-4898-92cd-081b58eaf6cb"
      },
      "source": [
        "matriz = np.array([[7, 8, 9], [4, 5, 6], [1, 2, 3]])\n",
        "\n",
        "print (matriz)"
      ],
      "execution_count": 113,
      "outputs": [
        {
          "output_type": "stream",
          "text": [
            "[[7 8 9]\n",
            " [4 5 6]\n",
            " [1 2 3]]\n"
          ],
          "name": "stdout"
        }
      ]
    },
    {
      "cell_type": "markdown",
      "metadata": {
        "id": "KI6JKuY72Nq1",
        "colab_type": "text"
      },
      "source": [
        "15. Troque de lugar a primeira coluna com a útllima coluna da matriz."
      ]
    },
    {
      "cell_type": "code",
      "metadata": {
        "id": "FKdjN7pK2Nq1",
        "colab_type": "code",
        "colab": {}
      },
      "source": [
        ""
      ],
      "execution_count": 0,
      "outputs": []
    },
    {
      "cell_type": "markdown",
      "metadata": {
        "id": "eCTXFeSc2Nq4",
        "colab_type": "text"
      },
      "source": [
        "16. Troque de lugar a primeira linha com a útllima linha da matriz."
      ]
    },
    {
      "cell_type": "code",
      "metadata": {
        "id": "tL2jv8Ag2Nq4",
        "colab_type": "code",
        "colab": {}
      },
      "source": [
        ""
      ],
      "execution_count": 0,
      "outputs": []
    },
    {
      "cell_type": "markdown",
      "metadata": {
        "id": "GML1YsgQ2Nq7",
        "colab_type": "text"
      },
      "source": [
        "17. Crie uma matriz  7 × 5 preenchida com números decimais aleatórios entre 1 e 5."
      ]
    },
    {
      "cell_type": "code",
      "metadata": {
        "id": "N-_zFNHa2Nq8",
        "colab_type": "code",
        "colab": {
          "base_uri": "https://localhost:8080/",
          "height": 136
        },
        "outputId": "2cdf30dd-4439-4717-ee08-f415b7236d1c"
      },
      "source": [
        "matriz2 = np.array([[1.1,1.2,1.3,1.4,1.5], [2.1,2.2,2.3,2.4,2.5], [3.1,3.2,3.3,3.4,3.5], [4.1,4.2,4.3,4.4,4.5], [2.7,2.8,2.9,2.6,3.7], [3.6,3.8,3.9,4.6,4.7], [1.6,1.7,1.8,1.9,4.8]])\n",
        "print(matriz2)"
      ],
      "execution_count": 138,
      "outputs": [
        {
          "output_type": "stream",
          "text": [
            "[[1.1 1.2 1.3 1.4 1.5]\n",
            " [2.1 2.2 2.3 2.4 2.5]\n",
            " [3.1 3.2 3.3 3.4 3.5]\n",
            " [4.1 4.2 4.3 4.4 4.5]\n",
            " [2.7 2.8 2.9 2.6 3.7]\n",
            " [3.6 3.8 3.9 4.6 4.7]\n",
            " [1.6 1.7 1.8 1.9 4.8]]\n"
          ],
          "name": "stdout"
        }
      ]
    },
    {
      "cell_type": "markdown",
      "metadata": {
        "id": "YTilrY_J2Nq_",
        "colab_type": "text"
      },
      "source": [
        "18. Qual é o comprimento `len` da matriz?"
      ]
    },
    {
      "cell_type": "code",
      "metadata": {
        "id": "L76qqus12Nq_",
        "colab_type": "code",
        "colab": {
          "base_uri": "https://localhost:8080/",
          "height": 34
        },
        "outputId": "8411227f-32a4-46f7-e7f3-e0898bca4eb2"
      },
      "source": [
        "z = len(matriz2)\n",
        "print(z)"
      ],
      "execution_count": 139,
      "outputs": [
        {
          "output_type": "stream",
          "text": [
            "7\n"
          ],
          "name": "stdout"
        }
      ]
    },
    {
      "cell_type": "markdown",
      "metadata": {
        "id": "Fn0aJ4qP2NrC",
        "colab_type": "text"
      },
      "source": [
        "19. Quantas dimensões `ndim` a matriz possui?"
      ]
    },
    {
      "cell_type": "code",
      "metadata": {
        "id": "MjB1lut_2NrC",
        "colab_type": "code",
        "colab": {
          "base_uri": "https://localhost:8080/",
          "height": 34
        },
        "outputId": "f61e1b03-82c1-4ff1-8d7e-2ef87ad9a4e4"
      },
      "source": [
        "np.ndim(matriz2)"
      ],
      "execution_count": 140,
      "outputs": [
        {
          "output_type": "execute_result",
          "data": {
            "text/plain": [
              "2"
            ]
          },
          "metadata": {
            "tags": []
          },
          "execution_count": 140
        }
      ]
    },
    {
      "cell_type": "markdown",
      "metadata": {
        "id": "u_hYgZcF2NrF",
        "colab_type": "text"
      },
      "source": [
        "20. O que a função `shape` retorna?"
      ]
    },
    {
      "cell_type": "code",
      "metadata": {
        "id": "rh_f5ZxF2NrG",
        "colab_type": "code",
        "colab": {
          "base_uri": "https://localhost:8080/",
          "height": 34
        },
        "outputId": "a32dcdde-554b-43a3-bc87-6c7db1ab8143"
      },
      "source": [
        "print (matriz2.shape)"
      ],
      "execution_count": 141,
      "outputs": [
        {
          "output_type": "stream",
          "text": [
            "(7, 5)\n"
          ],
          "name": "stdout"
        }
      ]
    },
    {
      "cell_type": "markdown",
      "metadata": {
        "id": "tm3_vUZT2NrI",
        "colab_type": "text"
      },
      "source": [
        "**Resposta**:"
      ]
    },
    {
      "cell_type": "markdown",
      "metadata": {
        "id": "vkRTrBHT2NrI",
        "colab_type": "text"
      },
      "source": [
        "# EXERCÍCIO: Análise de Dados dos Jogadores da FIFA ⚽"
      ]
    },
    {
      "cell_type": "markdown",
      "metadata": {
        "id": "7-jiJl9q2NrJ",
        "colab_type": "text"
      },
      "source": [
        "Neste exercício, iremos usar a biblioteca NumPy para fazer uma análise de dados de jogares de futebol da FIFA disponíveis em [`data/fifa.csv`](data/fifa.csv). O conjunto de dados (dataset) foi adaptado da versão original disponibilizada nas plataformas: [Kaggle](https://www.kaggle.com/karangadiya/fifa19/data) e [GitHub](https://github.com/amanthedorkknight/fifa18-all-player-statistics).\n",
        "\n",
        "## Dicionário de Dados\n",
        "\n",
        "| Coluna        | Descrição                                        |\n",
        "|:--------------|:-------------------------------------------------|\n",
        "| id            | Identificador único do jogador                   |\n",
        "| nome          | Nome do jogador                                  |\n",
        "| foto          | URL da fotografia do jogador.                    |\n",
        "| nacionalidade | País do jogador.                                 |\n",
        "| avaliacao     | Avaliação geral do jogador.                      |\n",
        "| potencial     | Indicador da classificação potencial do jogador. |\n",
        "| time          | Nome do time do jogador.                         |\n",
        "| pe_preferido  | Direito (Destro), Esquerdo (Canhoto).            |\n",
        "| reputacao     | Reputação Internacional do jogador.              |\n",
        "| altura_cm     | Altura do jogador em centímetros (cm).           |\n",
        "| peso_kg       | Peso do jogador em kilos (kg).                   |\n",
        "| posicao       | Posição do jogador no time.                      |\n",
        "| numero_camisa | Número da camisa do jogador.                     |"
      ]
    },
    {
      "cell_type": "markdown",
      "metadata": {
        "id": "DcPUwWj-2NrJ",
        "colab_type": "text"
      },
      "source": [
        "1. Importe o pacote numpy com o nome np."
      ]
    },
    {
      "cell_type": "code",
      "metadata": {
        "id": "4EBX8h4F2NrJ",
        "colab_type": "code",
        "colab": {}
      },
      "source": [
        "import numpy as np"
      ],
      "execution_count": 0,
      "outputs": []
    },
    {
      "cell_type": "markdown",
      "metadata": {
        "id": "MxL2Oprk2NrM",
        "colab_type": "text"
      },
      "source": [
        "2. Carregue o conjunto de dados da Fifa disponível na pasta (`data/fifa.csv`), ignorando a coluna `foto`, para uma matriz em uma variavel chamada `dados`. **Dicas:**\n",
        "    - Pesquise pela função `genfromtxt`; \n",
        "    - Não esqueça de especificar a codificação (encoding) como UTF-8;\n",
        "    - Ignore o cabeçalho dos dados usando o parâmetro `skip_header=True`"
      ]
    },
    {
      "cell_type": "code",
      "metadata": {
        "id": "OdTxXMee2NrN",
        "colab_type": "code",
        "colab": {
          "base_uri": "https://localhost:8080/",
          "height": 187
        },
        "outputId": "62bc2e6c-7b79-4730-ea35-176f719c9c30"
      },
      "source": [
        "dados = np.genfromtxt('fifa.csv', \n",
        "                      delimiter=',', \n",
        "                      encoding='utf-8', \n",
        "                      dtype=object, \n",
        "                      skip_header=True,\n",
        "                      usecols=[0, 1, 2, 4, 5, 6, 7, 8, 9, 10, 11, 12])\n",
        "\n",
        "dados"
      ],
      "execution_count": 58,
      "outputs": [
        {
          "output_type": "execute_result",
          "data": {
            "text/plain": [
              "array([[b'158023', b'L. Messi', b'31', ..., b'170', b'72.121', b'RF'],\n",
              "       [b'20801', b'Cristiano Ronaldo', b'33', ..., b'188', b'83.007',\n",
              "        b'ST'],\n",
              "       [b'190871', b'Neymar Jr', b'26', ..., b'175', b'68.039', b'LW'],\n",
              "       ...,\n",
              "       [b'241638', b'B. Worman', b'16', ..., b'173', b'67.132', b'ST'],\n",
              "       [b'246268', b'D. Walker-Rice', b'17', ..., b'152', b'69.853',\n",
              "        b'RW'],\n",
              "       [b'246269', b'G. Nugent', b'16', ..., b'152', b'79.832', b'CM']],\n",
              "      dtype=object)"
            ]
          },
          "metadata": {
            "tags": []
          },
          "execution_count": 58
        }
      ]
    },
    {
      "cell_type": "markdown",
      "metadata": {
        "id": "x4Dep9_22NrP",
        "colab_type": "text"
      },
      "source": [
        "3. Quantas linhas foram lidas do arquivo?"
      ]
    },
    {
      "cell_type": "code",
      "metadata": {
        "id": "_yAOtuio2NrQ",
        "colab_type": "code",
        "colab": {
          "base_uri": "https://localhost:8080/",
          "height": 34
        },
        "outputId": "ed63421f-d4c0-409a-beae-2f04078c1595"
      },
      "source": [
        "len(dados)"
      ],
      "execution_count": 13,
      "outputs": [
        {
          "output_type": "execute_result",
          "data": {
            "text/plain": [
              "18207"
            ]
          },
          "metadata": {
            "tags": []
          },
          "execution_count": 13
        }
      ]
    },
    {
      "cell_type": "markdown",
      "metadata": {
        "id": "fKDV1YCz2NrS",
        "colab_type": "text"
      },
      "source": [
        "4. Quantas dimensões sua variável `dados` possui?"
      ]
    },
    {
      "cell_type": "code",
      "metadata": {
        "id": "axFaYsJj2NrT",
        "colab_type": "code",
        "colab": {
          "base_uri": "https://localhost:8080/",
          "height": 34
        },
        "outputId": "f6e3f964-26cc-42c6-9766-463a1289632b"
      },
      "source": [
        "np.ndim(dados)"
      ],
      "execution_count": 23,
      "outputs": [
        {
          "output_type": "execute_result",
          "data": {
            "text/plain": [
              "2"
            ]
          },
          "metadata": {
            "tags": []
          },
          "execution_count": 23
        }
      ]
    },
    {
      "cell_type": "markdown",
      "metadata": {
        "id": "wFUwWwDl2NrX",
        "colab_type": "text"
      },
      "source": [
        "5. O que a função shape retorna?"
      ]
    },
    {
      "cell_type": "code",
      "metadata": {
        "id": "fLoxiChP2NrX",
        "colab_type": "code",
        "colab": {
          "base_uri": "https://localhost:8080/",
          "height": 34
        },
        "outputId": "fc1f5556-d96a-44b7-df56-802cea46f26f"
      },
      "source": [
        "np.shape(dados)"
      ],
      "execution_count": 30,
      "outputs": [
        {
          "output_type": "execute_result",
          "data": {
            "text/plain": [
              "(18207, 11)"
            ]
          },
          "metadata": {
            "tags": []
          },
          "execution_count": 30
        }
      ]
    },
    {
      "cell_type": "markdown",
      "metadata": {
        "id": "l7puSAN62NrZ",
        "colab_type": "text"
      },
      "source": [
        "**Resposta**:"
      ]
    },
    {
      "cell_type": "markdown",
      "metadata": {
        "id": "tmLVwhOX2NrZ",
        "colab_type": "text"
      },
      "source": [
        "6. Mostre o dado que está na 3ª linha da 4ª coluna?"
      ]
    },
    {
      "cell_type": "code",
      "metadata": {
        "id": "wbPY_ZUD2Nra",
        "colab_type": "code",
        "colab": {
          "base_uri": "https://localhost:8080/",
          "height": 34
        },
        "outputId": "40b2364e-3ed8-432a-add0-7fd2bdaea3d4"
      },
      "source": [
        "dados[2, 3]"
      ],
      "execution_count": 31,
      "outputs": [
        {
          "output_type": "execute_result",
          "data": {
            "text/plain": [
              "b'Brasil'"
            ]
          },
          "metadata": {
            "tags": []
          },
          "execution_count": 31
        }
      ]
    },
    {
      "cell_type": "markdown",
      "metadata": {
        "id": "LL2q18IA2Nrc",
        "colab_type": "text"
      },
      "source": [
        "7. Exiba os dados da primeira linha do dataset."
      ]
    },
    {
      "cell_type": "code",
      "metadata": {
        "id": "1Dcbpqdv2Nrd",
        "colab_type": "code",
        "colab": {
          "base_uri": "https://localhost:8080/",
          "height": 68
        },
        "outputId": "30627586-dced-4891-8fab-6b968a04ebe3"
      },
      "source": [
        "dados[0]"
      ],
      "execution_count": 34,
      "outputs": [
        {
          "output_type": "execute_result",
          "data": {
            "text/plain": [
              "array([b'158023', b'L. Messi', b'31', b'Argentina', b'94', b'94',\n",
              "       b'FC Barcelona', b'Esquerdo', b'5', b'170', b'72.121'],\n",
              "      dtype=object)"
            ]
          },
          "metadata": {
            "tags": []
          },
          "execution_count": 34
        }
      ]
    },
    {
      "cell_type": "markdown",
      "metadata": {
        "id": "KyY2RFN12Nrf",
        "colab_type": "text"
      },
      "source": [
        "8. Mostre as 5 primeiras linhas do conjunto de dados."
      ]
    },
    {
      "cell_type": "code",
      "metadata": {
        "id": "yYd0WX522Nrf",
        "colab_type": "code",
        "colab": {
          "base_uri": "https://localhost:8080/",
          "height": 204
        },
        "outputId": "6576f655-ff3f-4c61-d5c7-092a60ffa7d9"
      },
      "source": [
        "dados[:5]"
      ],
      "execution_count": 35,
      "outputs": [
        {
          "output_type": "execute_result",
          "data": {
            "text/plain": [
              "array([[b'158023', b'L. Messi', b'31', b'Argentina', b'94', b'94',\n",
              "        b'FC Barcelona', b'Esquerdo', b'5', b'170', b'72.121'],\n",
              "       [b'20801', b'Cristiano Ronaldo', b'33', b'Portugal', b'94', b'94',\n",
              "        b'Juventus', b'Direito', b'5', b'188', b'83.007'],\n",
              "       [b'190871', b'Neymar Jr', b'26', b'Brasil', b'92', b'93',\n",
              "        b'Paris Saint-Germain', b'Direito', b'5', b'175', b'68.039'],\n",
              "       [b'193080', b'De Gea', b'27', b'Espanha', b'91', b'93',\n",
              "        b'Manchester United', b'Direito', b'4', b'193', b'76.204'],\n",
              "       [b'192985', b'K. De Bruyne', b'27', b'B\\xe9lgica', b'91', b'92',\n",
              "        b'Manchester City', b'Direito', b'4', b'155', b'69.853']],\n",
              "      dtype=object)"
            ]
          },
          "metadata": {
            "tags": []
          },
          "execution_count": 35
        }
      ]
    },
    {
      "cell_type": "markdown",
      "metadata": {
        "id": "pNceWFkh2Nrh",
        "colab_type": "text"
      },
      "source": [
        "9. Selecione todas as linhas da coluna `nome` (segunda coluna). **Dica:** use o operador `:`"
      ]
    },
    {
      "cell_type": "code",
      "metadata": {
        "id": "uGwzRFZ82Nri",
        "colab_type": "code",
        "colab": {
          "base_uri": "https://localhost:8080/",
          "height": 51
        },
        "outputId": "9de6c78e-5f05-4b25-8624-1dc173f383e4"
      },
      "source": [
        "dados[:,1]"
      ],
      "execution_count": 36,
      "outputs": [
        {
          "output_type": "execute_result",
          "data": {
            "text/plain": [
              "array([b'L. Messi', b'Cristiano Ronaldo', b'Neymar Jr', ..., b'B. Worman',\n",
              "       b'D. Walker-Rice', b'G. Nugent'], dtype=object)"
            ]
          },
          "metadata": {
            "tags": []
          },
          "execution_count": 36
        }
      ]
    },
    {
      "cell_type": "markdown",
      "metadata": {
        "id": "BfnmRASk2Nrj",
        "colab_type": "text"
      },
      "source": [
        "10. Inicialize um vetor de inteiros NumPy chamado: **idades**; com todas as linhas da coluna `idade` (3ª coluna)."
      ]
    },
    {
      "cell_type": "code",
      "metadata": {
        "id": "cBBHarLa-61-",
        "colab_type": "code",
        "colab": {
          "base_uri": "https://localhost:8080/",
          "height": 34
        },
        "outputId": "a50147d0-55a9-4848-c154-dada7f74353a"
      },
      "source": [
        "idades = np.array(dados[:, 2], dtype=int)\n",
        "idades "
      ],
      "execution_count": 39,
      "outputs": [
        {
          "output_type": "execute_result",
          "data": {
            "text/plain": [
              "array([31, 33, 26, ..., 16, 17, 16])"
            ]
          },
          "metadata": {
            "tags": []
          },
          "execution_count": 39
        }
      ]
    },
    {
      "cell_type": "markdown",
      "metadata": {
        "id": "luEUvFex2Nrm",
        "colab_type": "text"
      },
      "source": [
        "11. Qual é a média de idades dos jogadores?"
      ]
    },
    {
      "cell_type": "code",
      "metadata": {
        "id": "cRgLCCXF2Nrn",
        "colab_type": "code",
        "colab": {
          "base_uri": "https://localhost:8080/",
          "height": 34
        },
        "outputId": "c5680cdc-71a5-4b34-af3d-08cd26d428c6"
      },
      "source": [
        "idades.mean()"
      ],
      "execution_count": 40,
      "outputs": [
        {
          "output_type": "execute_result",
          "data": {
            "text/plain": [
              "25.122205745043114"
            ]
          },
          "metadata": {
            "tags": []
          },
          "execution_count": 40
        }
      ]
    },
    {
      "cell_type": "markdown",
      "metadata": {
        "id": "EhoGHfTh2Nrp",
        "colab_type": "text"
      },
      "source": [
        "12. Qual é a maior idade do conjunto de dados?"
      ]
    },
    {
      "cell_type": "code",
      "metadata": {
        "id": "1sVV-PX32Nrp",
        "colab_type": "code",
        "colab": {
          "base_uri": "https://localhost:8080/",
          "height": 34
        },
        "outputId": "1f48f085-11d0-4396-b2fd-d2b965d22fad"
      },
      "source": [
        "idades.max()"
      ],
      "execution_count": 41,
      "outputs": [
        {
          "output_type": "execute_result",
          "data": {
            "text/plain": [
              "45"
            ]
          },
          "metadata": {
            "tags": []
          },
          "execution_count": 41
        }
      ]
    },
    {
      "cell_type": "markdown",
      "metadata": {
        "id": "HkW4lXzF2Nrt",
        "colab_type": "text"
      },
      "source": [
        "13. Qual é a menor idade do conjunto de dados?"
      ]
    },
    {
      "cell_type": "code",
      "metadata": {
        "id": "bAVbyfiA2Nrt",
        "colab_type": "code",
        "colab": {
          "base_uri": "https://localhost:8080/",
          "height": 34
        },
        "outputId": "acaee253-5dd3-43c3-83bb-97a541444378"
      },
      "source": [
        "idades.min()"
      ],
      "execution_count": 42,
      "outputs": [
        {
          "output_type": "execute_result",
          "data": {
            "text/plain": [
              "16"
            ]
          },
          "metadata": {
            "tags": []
          },
          "execution_count": 42
        }
      ]
    },
    {
      "cell_type": "markdown",
      "metadata": {
        "id": "zaXuWAWB2Nrv",
        "colab_type": "text"
      },
      "source": [
        "14. Selecione todos os jogadores que possuem a maior idade deste conjunto de dados. Quantas linhas retornaram? "
      ]
    },
    {
      "cell_type": "code",
      "metadata": {
        "id": "qcdqcYnZ2Nrv",
        "colab_type": "code",
        "colab": {
          "base_uri": "https://localhost:8080/",
          "height": 34
        },
        "outputId": "339259bd-3de8-40ba-eac9-8cc8b9d983ed"
      },
      "source": [
        "maior_idade = idades.max()\n",
        "condicao = dados[:, 2].astype(int) == maior_idade\n",
        "\n",
        "dados[condicao, :]\n",
        "len(dados[condicao, :])"
      ],
      "execution_count": 49,
      "outputs": [
        {
          "output_type": "execute_result",
          "data": {
            "text/plain": [
              "1"
            ]
          },
          "metadata": {
            "tags": []
          },
          "execution_count": 49
        }
      ]
    },
    {
      "cell_type": "markdown",
      "metadata": {
        "id": "_3TAOT4R2Nrx",
        "colab_type": "text"
      },
      "source": [
        "15. Selecione todos os jogadores que possuem a menor idade deste conjunto de dados. Quantas linhas retornaram? "
      ]
    },
    {
      "cell_type": "code",
      "metadata": {
        "id": "BDvT3gNv2Nrx",
        "colab_type": "code",
        "colab": {
          "base_uri": "https://localhost:8080/",
          "height": 34
        },
        "outputId": "29ec3509-69c2-4204-80e6-eb21de0b88fa"
      },
      "source": [
        "menor_idade = idades.min()\n",
        "result = dados[:, 2].astype(int) == menor_idade\n",
        "\n",
        "dados[result, :]\n",
        "len(dados[result, :])\n"
      ],
      "execution_count": 51,
      "outputs": [
        {
          "output_type": "execute_result",
          "data": {
            "text/plain": [
              "42"
            ]
          },
          "metadata": {
            "tags": []
          },
          "execution_count": 51
        }
      ]
    },
    {
      "cell_type": "markdown",
      "metadata": {
        "id": "Zorq7vwK2Nr0",
        "colab_type": "text"
      },
      "source": [
        "16. Selecione todos os jogadores brasileiros para uma variável chamada dados_brasil. Use `b'Brasil'` para fazer a comparação."
      ]
    },
    {
      "cell_type": "code",
      "metadata": {
        "id": "wlMu3EUf2Nr1",
        "colab_type": "code",
        "colab": {
          "base_uri": "https://localhost:8080/",
          "height": 34
        },
        "outputId": "70ba9eb5-ebb8-4874-b295-b9df8502d50b"
      },
      "source": [
        "condicao = dados [:,3] == b'Brasil'\n",
        "dados_brasil = dados[condicao, :]\n",
        "\n",
        "\n",
        "len(dados_brasil)"
      ],
      "execution_count": 91,
      "outputs": [
        {
          "output_type": "execute_result",
          "data": {
            "text/plain": [
              "69"
            ]
          },
          "metadata": {
            "tags": []
          },
          "execution_count": 91
        }
      ]
    },
    {
      "cell_type": "markdown",
      "metadata": {
        "id": "mywOdtq_2Nr3",
        "colab_type": "text"
      },
      "source": [
        "17. Quantos são os jogadores brasileiros?"
      ]
    },
    {
      "cell_type": "code",
      "metadata": {
        "id": "h5IHFcVK2Nr3",
        "colab_type": "code",
        "colab": {}
      },
      "source": [
        "len(dados_brasil)"
      ],
      "execution_count": 0,
      "outputs": []
    },
    {
      "cell_type": "markdown",
      "metadata": {
        "id": "GGmhYhNq2Nr5",
        "colab_type": "text"
      },
      "source": [
        "18. Para as colunas `idade`, `altura` e `peso`, calcule:\n",
        "    - Média\n",
        "    - Mediana\n",
        "    - Máximo\n",
        "    - Mínimo"
      ]
    },
    {
      "cell_type": "code",
      "metadata": {
        "id": "eV3uaPJp2Nr6",
        "colab_type": "code",
        "colab": {
          "base_uri": "https://localhost:8080/",
          "height": 68
        },
        "outputId": "3ca2b8b9-1e11-440b-d6cd-278322cf6f1a"
      },
      "source": [
        "condicao_vazio = dados[:, 2] != b''\n",
        "idade = dados[condicao_vazio, 2].astype(int)\n",
        "\n",
        "print(idade.mean(), np.median(idade), idade.max(), idade.min())\n",
        "\n",
        "condicao_vazio = dados[:, 9] != b''\n",
        "altura = dados[condicao_vazio, 9].astype(float)\n",
        "\n",
        "print(altura.mean(), np.median(altura), altura.max(), altura.min())\n",
        "\n",
        "condicao_vazio = dados[:, 10] != b''\n",
        "peso = dados[condicao_vazio, 10].astype(float)\n",
        "\n",
        "print(peso.mean(), np.median(peso), peso.max(), peso.min())\n",
        "\n"
      ],
      "execution_count": 116,
      "outputs": [
        {
          "output_type": "stream",
          "text": [
            "25.122205745043114 25.0 45 16\n",
            "174.7126493749656 175.0 206.0 152.0\n",
            "75.28690153642822 74.843 110.223 49.895\n"
          ],
          "name": "stdout"
        }
      ]
    },
    {
      "cell_type": "markdown",
      "metadata": {
        "id": "_hxA9Dks2Nr8",
        "colab_type": "text"
      },
      "source": [
        "19. Calcule o desvio padrão da `reputação` dos jogadores brasileiros"
      ]
    },
    {
      "cell_type": "code",
      "metadata": {
        "id": "qTKD-U0_2Nr8",
        "colab_type": "code",
        "colab": {
          "base_uri": "https://localhost:8080/",
          "height": 34
        },
        "outputId": "33e3375e-0b6a-4d77-da88-f69f1bcab8e6"
      },
      "source": [
        "desvio_padrao = dados_brasil[:,8].astype(int)\n",
        "\n",
        "np.std(desvio_padrao)"
      ],
      "execution_count": 114,
      "outputs": [
        {
          "output_type": "execute_result",
          "data": {
            "text/plain": [
              "1.0093034983466755"
            ]
          },
          "metadata": {
            "tags": []
          },
          "execution_count": 114
        }
      ]
    },
    {
      "cell_type": "markdown",
      "metadata": {
        "id": "73_n7Hc82Nr-",
        "colab_type": "text"
      },
      "source": [
        "20. Qual jogador brasileiro tem menor pontencial?"
      ]
    },
    {
      "cell_type": "code",
      "metadata": {
        "id": "lrVaiWzv2NsA",
        "colab_type": "code",
        "colab": {
          "base_uri": "https://localhost:8080/",
          "height": 34
        },
        "outputId": "d0ff2acd-8ea2-44a1-fdbd-bbed965f30a5"
      },
      "source": [
        "menor_potencial = dados_brasil[:,5]\n",
        "\n",
        "menor_potencial.min()\n"
      ],
      "execution_count": 94,
      "outputs": [
        {
          "output_type": "execute_result",
          "data": {
            "text/plain": [
              "b'79'"
            ]
          },
          "metadata": {
            "tags": []
          },
          "execution_count": 94
        }
      ]
    }
  ]
}